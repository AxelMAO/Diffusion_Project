{
 "cells": [
  {
   "cell_type": "markdown",
   "metadata": {},
   "source": [
    "<div style=\"background-color: rgba(0, 255,0,0.1); border-radius: 5px; padding: 10px;\", align=\"center\">\n",
    "\n",
    "\n",
    "# Projet de modèles de diffusion\n",
    "\n",
    "</div>"
   ]
  },
  {
   "cell_type": "markdown",
   "metadata": {},
   "source": [
    "## IMPORT"
   ]
  },
  {
   "cell_type": "code",
   "execution_count": 6,
   "metadata": {},
   "outputs": [],
   "source": [
    "import torch\n",
    "import torch.nn as nn\n",
    "import torch.nn.functional as F\n",
    "import torchvision\n",
    "from torchvision import transforms\n",
    "\n",
    "\n",
    "import matplotlib.pyplot as plt\n",
    "import numpy as np\n",
    "from tqdm.notebook import tqdm\n",
    "\n",
    "import numpy as np\n",
    "import matplotlib.pyplot as plt\n",
    "import matplotlib.animation as animation\n",
    "import imageio\n",
    "from PIL import Image\n",
    "\n",
    "import logging\n",
    "import os"
   ]
  },
  {
   "cell_type": "markdown",
   "metadata": {},
   "source": [
    "## CONFIG\n",
    "\n",
    "This configuration sets parameters for a diffusion and training process"
   ]
  },
  {
   "cell_type": "code",
   "execution_count": 2,
   "metadata": {},
   "outputs": [],
   "source": [
    "IMG_SIZE = 32 # Power of 2\n",
    "NUM_CHANNELS = 1 # Grayscale: 1\n",
    "NOISE_STEPS = 1000\n",
    "\n",
    "BATCH_SIZE = 64\n",
    "NUM_EPOCHS = 20\n",
    "LR = 1e-5 # learning rate\n",
    "\n",
    "# Set up logging\n",
    "logging.basicConfig(level=logging.WARNING, format='%(asctime)s - %(levelname)s - %(message)s')"
   ]
  },
  {
   "cell_type": "code",
   "execution_count": 3,
   "metadata": {},
   "outputs": [
    {
     "name": "stdout",
     "output_type": "stream",
     "text": [
      "cuda\n"
     ]
    }
   ],
   "source": [
    "device = torch.device(\"cuda\" if torch.cuda.is_available() else \"cpu\")\n",
    "print(device)"
   ]
  },
  {
   "cell_type": "markdown",
   "metadata": {},
   "source": [
    "## DATA\n",
    "\n",
    "This section loads the MNIST dataset to train our model (start with a portion of it)"
   ]
  },
  {
   "cell_type": "code",
   "execution_count": 4,
   "metadata": {},
   "outputs": [],
   "source": [
    "fraction = 1 # take all the dataset\n",
    "o\n",
    "transform = torchvision.transforms.Compose([\n",
    "    torchvision.transforms.Resize((IMG_SIZE, IMG_SIZE)),\n",
    "    torchvision.transforms.ToTensor()\n",
    "])\n",
    "\n",
    "mnist_data = torchvision.datasets.MNIST(root='./data', train=True, download=True, transform=transform)\n",
    "num_samples = int(len(mnist_data) * fraction)\n",
    "indices = np.random.choice(len(mnist_data), num_samples, replace=False)\n",
    "subset_data = torch.utils.data.Subset(mnist_data, indices)\n",
    "dataloader = torch.utils.data.DataLoader(subset_data, batch_size=BATCH_SIZE, shuffle=True)"
   ]
  },
  {
   "cell_type": "code",
   "execution_count": 38,
   "metadata": {},
   "outputs": [
    {
     "name": "stdout",
     "output_type": "stream",
     "text": [
      "Files already downloaded and verified\n"
     ]
    }
   ],
   "source": [
    "#Get Data from the CIFAR10 dataset\n",
    "\n",
    "transform = transforms.Compose([\n",
    "    torchvision.transforms.Grayscale(num_output_channels=1),\n",
    "    torchvision.transforms.ToTensor()\n",
    "])\n",
    "\n",
    "cifar_data = torchvision.datasets.CIFAR10(root='./cifar', train=True, download=True, transform=transform)\n",
    "num_samples = int(len(cifar_data) * fraction)\n",
    "indices = np.random.choice(len(cifar_data), num_samples, replace=False)\n",
    "subset_data = torch.utils.data.Subset(cifar_data, indices)\n",
    "dataloader_cifar = torch.utils.data.DataLoader(subset_data, batch_size=BATCH_SIZE, shuffle=True)\n",
    "#dataloader = dataloader_cat"
   ]
  },
  {
   "cell_type": "code",
   "execution_count": 39,
   "metadata": {},
   "outputs": [
    {
     "name": "stdout",
     "output_type": "stream",
     "text": [
      "Nb images in DataLoader : 60000\n"
     ]
    }
   ],
   "source": [
    "print(\"Nb images in DataLoader :\", len(dataloader.dataset))"
   ]
  },
  {
   "cell_type": "code",
   "execution_count": 7,
   "metadata": {},
   "outputs": [
    {
     "data": {
      "image/png": "[encoded data removed]",
      "text/plain": [
       "<Figure size 1000x200 with 6 Axes>"
      ]
     },
     "metadata": {},
     "output_type": "display_data"
    }
   ],
   "source": [
    "def show_images(dataloader, num_images=6):\n",
    "    _, axes = plt.subplots(1, num_images, figsize=(10, 2))\n",
    "    for i in range(num_images):\n",
    "        images, _ = next(iter(dataloader))\n",
    "        image = images[i].numpy()\n",
    "        ax = axes[i]\n",
    "        ax.imshow(image.squeeze(), cmap='gray')\n",
    "        ax.axis('off')\n",
    "        \n",
    "    plt.show()\n",
    "\n",
    "show_images(dataloader)"
   ]
  },
  {
   "cell_type": "code",
   "execution_count": 41,
   "metadata": {},
   "outputs": [
    {
     "data": {
      "image/png": "[encoded data removed]",
      "text/plain": [
       "<Figure size 1000x200 with 6 Axes>"
      ]
     },
     "metadata": {},
     "output_type": "display_data"
    }
   ],
   "source": [
    "show_images(dataloader_cifar)"
   ]
  },
  {
   "cell_type": "markdown",
   "metadata": {},
   "source": [
    "## DIFFUSION"
   ]
  },
  {
   "cell_type": "markdown",
   "metadata": {},
   "source": [
    "The `Diffusion` class is designed to manage the process of adding Gaussian noise to an image at a specific timestep $t$ and to reverse this diffusion process, reconstructing images from noise, step by step, until reaching $t=0$. The class also incorporates a scheduler (linear) to establish and control the parameters `beta` and `alpha`, which are crucial for dictating the noise levels and the progression of the diffusion process.\n",
    "\n",
    "### Forward Diffusion Process\n",
    "In the forward diffusion process, at each timestep $t$, the image $x_{t-1}$ is incrementally noised following a conditional Gaussian distribution:\n",
    "\n",
    "$$x_t = \\sqrt{1 - \\beta_t} x_{t-1} + \\sqrt{\\beta_t} \\epsilon,$$\n",
    "\n",
    "where $\\epsilon \\sim \\mathcal{N}(0, I)$ represents standard Gaussian noise, and $\\beta_t$ is a parameter controlling the noise intensity at step $t$. An important property is that sums of Gaussians are also Gaussian. This significantly simplifies the process of generating noise, as at each step $t$, it is not necessary to iterate through all previous steps. Thus, noise can be generated directly at step $t$, enhancing the efficiency of the learning process.\n",
    "\n",
    "\n",
    "The equation used to actually apply the noise in code is:\n",
    "\n",
    "$$\n",
    "x_t = \\sqrt{\\alpha_{\\text{hat},t}} \\times x + \\sqrt{1 - \\alpha_{\\text{hat},t}} \\times \\epsilon\n",
    "$$\n",
    "\n",
    "\n",
    "The parameters $\\alpha_t = 1 - \\beta_t$ and $\\alpha_{\\text{hat}, t} = \\prod_{i=1}^t \\alpha_i$ determine the proportion of the original image preserved and the cumulative noise reduction across steps, respectively. $\\epsilon$ is a Gaussian noise.\n",
    "This equation represents the decomposition of the noising process into a part that scales the original image by the cumulative root of the preserved noise $\\sqrt{\\alpha_{\\text{hat},t}}$ and a part that adds scaled Gaussian noise $\\sqrt{1 - \\alpha_{\\text{hat},t}} \\times \\epsilon$.\n",
    "\n",
    "**To Do**: Implement the `forward_diffusion` function. This should return the noised_image and the noise.\n",
    "\n",
    "\n",
    "### Reverse Diffusion Process\n",
    "The reverse diffusion process aims to reconstruct the original image from the noisy state. Starting from $x_T$ (where $T$ is the last step, mostly pure noise), the image is progressively \"denoised\" by estimating the noise added at each step:\n",
    "\n",
    "$$x_{\\text{t-1}} = \\frac{1}{\\sqrt{\\alpha}} \\left( x - \\frac{1 - \\alpha}{\\sqrt{1 - \\alpha_{\\text{hat}}}} \\cdot \\epsilon_t \\right) + \\sqrt{\\beta} \\times \\epsilon$$\n",
    "\n",
    "\n",
    "where $\\epsilon_t$ is the noise predicted by the model at step $t$. To explore the space more effectively during the denoising, a Gaussian noise term $\\sqrt{\\beta_t} \\times \\epsilon$ is added. This term introduces a controlled amount of randomness back into the process, helping to sample from nearby states in the probability distribution. For $t=1$, this noise term is set to zero to ensure that the final denoising step precisely targets the original data distribution without additional noise interference.\n",
    "\n",
    "**To Do**: Implement the `reverse_diffusion` function to reconstruct the original image from its noisy state at a timestep t."
   ]
  },
  {
   "cell_type": "code",
   "execution_count": 8,
   "metadata": {},
   "outputs": [],
   "source": [
    "class Diffusion:\n",
    "    def __init__(self, noise_steps=NOISE_STEPS, beta_start=0.0001, beta_end=0.02, img_size=IMG_SIZE, device='cuda'):\n",
    "        \"\"\"\n",
    "        Initialize the Diffusion class.\n",
    "       \n",
    "        Attributes:\n",
    "            noise_steps (int): Number of steps in the diffusion process.\n",
    "            beta_start (float): Starting value of beta.\n",
    "            beta_end (float): Ending value of beta.\n",
    "            img_size (int): Size of the images.\n",
    "            device (str): Device to run computations on.\n",
    "            \n",
    "            beta (torch.Tensor): Tensor containing linearly spaced beta values.\n",
    "            alpha (torch.Tensor): Tensor containing corresponding alpha values.\n",
    "            alpha_hat (torch.Tensor): Cumulative product of alpha values.\n",
    "        \"\"\"\n",
    "        self.noise_steps = noise_steps\n",
    "        self.beta_start = beta_start\n",
    "        self.beta_end = beta_end\n",
    "        self.img_size = img_size\n",
    "        self.device = device\n",
    "\n",
    "        self.beta = torch.linspace(self.beta_start, self.beta_end, self.noise_steps, device=device)\n",
    "        self.alpha = 1.0 - self.beta\n",
    "        self.alpha_hat = torch.cumprod(self.alpha, dim=0)\n",
    "\n",
    "    def to(self, device):\n",
    "        \"\"\"\n",
    "        Move all model tensors to the specified device.\n",
    "        \"\"\"\n",
    "        if device != self.device:\n",
    "            if device == \"cpu\":\n",
    "                logging.warning(\"Moving tensors to CPU. This might affect performance.\")\n",
    "            elif device == \"cuda\":\n",
    "                logging.info(\"Moving tensors to CUDA\")\n",
    "                \n",
    "            self.device = device\n",
    "            self.beta = self.beta.to(device)\n",
    "            self.alpha = self.alpha.to(device)\n",
    "            self.alpha_hat = self.alpha_hat.to(device)\n",
    "        else:\n",
    "            logging.info(\"All tensors are already on the specified device: {}\".format(device))\n",
    "        return self\n",
    "\n",
    "    def forward_diffusion(self, x, t):\n",
    "        \"\"\"\n",
    "        Add noise to the images according to the timestep t.\n",
    "\n",
    "        Args:\n",
    "            x (torch.Tensor): Input images.\n",
    "            t (torch.Tensor): Timestep values.\n",
    "\n",
    "        Returns:\n",
    "            tuple: Tuple containing the noised images and the noise.\n",
    "        \"\"\"\n",
    "        \n",
    "    \n",
    "        t = t.flatten()\n",
    "    \n",
    "        sqrt_alpha_hat = torch.sqrt(self.alpha_hat[t]).view(-1, 1, 1, 1)\n",
    "        sqrt_one_minus_alpha_hat = torch.sqrt(1.0 - self.alpha_hat[t]).view(-1, 1, 1, 1)\n",
    "        #sqrt_one_minus_alpha_hat = sqrt_one_minus_alpha_hat[:, None, None, None]\n",
    "        noise = torch.normal(0, 1, x.shape, device=self.device)\n",
    "        noised_images = sqrt_alpha_hat * x + sqrt_one_minus_alpha_hat * noise\n",
    "\n",
    "        return noised_images, noise\n",
    "\n",
    "    def reverse_diffusion(self, model, x, start_t=None, num_images_to_return=None, test_noise=None):\n",
    "        \"\"\"\n",
    "        Reverse diffusion process to generate images or observe steps from a specific t to t=0.\n",
    "\n",
    "        Args:\n",
    "            model: The model used to predict noise.\n",
    "            x: Initial images or noise.\n",
    "            start_t (int, optional): Initial timestep of reverse diffusion. Defaults to None (last step).\n",
    "            num_images_to_return (int, optional): Number of additional images to return in addition to the final image (for visualisation). Defaults to None\n",
    "\n",
    "        Returns:\n",
    "            list: List of tuples containing reversed images and their corresponding timestep.\n",
    "        \"\"\"\n",
    "        denoised_sample = []\n",
    "\n",
    "        denoised_progression = []\n",
    "        if num_images_to_return is None:\n",
    "            num_images_to_return = 1\n",
    "        if start_t is None:\n",
    "            start_t = self.noise_steps - 1\n",
    "\n",
    "        for i in reversed(range(1, start_t + 1)):\n",
    "            noise = torch.normal(0, 1, x.shape, device=self.device)\n",
    "            sqrt_alpha = torch.sqrt(self.alpha[i])\n",
    "            one_minus_alpha = (1.0 - self.alpha[i])\n",
    "            sqrt_one_minus_alpha_hat = torch.sqrt(1.0 - self.alpha_hat[i])\n",
    "            predicted_noise = model.forward(x, torch.tensor([i], device=self.device))  \n",
    "            x = (1/ sqrt_alpha) * (x - one_minus_alpha*predicted_noise/sqrt_one_minus_alpha_hat) + noise * torch.sqrt(self.beta[i])\n",
    "            \n",
    "            # We append the denoised images, if number of images to return is not specified\n",
    "            # We only return the last image\n",
    "            if num_images_to_return >= i:\n",
    "                denoised_sample.append((x))\n",
    "        \n",
    "        return denoised_sample\n"
   ]
  },
  {
   "cell_type": "markdown",
   "metadata": {},
   "source": [
    "## Unet\n",
    "\n",
    "The UNet will be implemented to take a noised image at a specific timestep and output the predicted noise, essentially inverting the forward diffusion process. This model does not merely reproduce the input image; rather, it discerns and subtracts the added noise, for a step-by-step denoising until the original image is restored.\n",
    "\n",
    "The UNet is structured with a series of convolutional layers that descend into significant feature depths before ascending back to the output, matching the input image size.\n",
    "\n",
    "For example, in this specific diagram for the model, the U-Net takes an input of a 572x572 image with a single channel, progressing through successive stages of convolution and pooling to reach up to 1024 features at the deepest level. However, for smaller images such as 32x32, descending to 1024 features is not necessary; a depth of 512 is entirely sufficient.\n",
    "\n",
    "<img src=\"https://miro.medium.com/v2/resize:fit:1400/1*f7YOaE4TWubwaFF7Z1fzNw.png\" alt=\"Alternative text\" width=\"1200\" height=\"800\" />\n",
    "\n",
    "`DoubleConv` class defines a sequence of two consecutive convolutional layers, followed by group normalization (GroupNorm) and GELU activation (Gaussian Error Linear Unit). It can also include a residual connection, which is a technique used to facilitate learning by allowing information to pass directly through the layers without excessive modifications.\n",
    "\n",
    "`Down`: Each `Down` module in the contracting path consists of a max pooling operation followed by two DoubleConv layers. The max pooling reduces the spatial dimensions of the feature maps\n",
    "Each `Down` module also integrates temporal information through an embedding layer, which processes a temporal dimension (t) and merges this information with the feature maps. This temporal integration is critical for tasks where the input's characteristics change over time, such as during the progression of noise addition to an image.\n",
    "\n",
    "`Bottleneck` does not involve downsampling but focuses on processing the deepest and most compressed feature representations. This part of the network uses several DoubleConv layers to intensively process features, preparing them for expansion and detailed reconstruction.\n",
    "\n",
    "`Up`: In the expansive path, each `Up` module employs upsampling to increase the spatial dimensions of the feature maps. It uses bilinear interpolation for a smooth increase in size, followed by a concatenation with corresponding feature maps from the contracting path through skip connections. These skip connections reintroduce spatial details lost during downsampling, essential for precise localization and detail in image reconstruction. After concatenation, the feature maps go further processing with DoubleConv layers, again incorporating temporal embeddings to adjust the output based on the temporal information.\n",
    "\n",
    "**To do**: Complete the UNet function as well as its forward method for passing images through the model. You may or may not use the pre-built classes defined above."
   ]
  },
  {
   "cell_type": "code",
   "execution_count": 9,
   "metadata": {},
   "outputs": [],
   "source": [
    "class DoubleConv(nn.Module):\n",
    "    \"\"\" \n",
    "    Double convolution layers with GroupNorm and GELU activation. Optionally includes a residual connection.\n",
    "\n",
    "    Args:\n",
    "        in_channels (int): Number of input channels.\n",
    "        out_channels (int): Number of output channels.\n",
    "        mid_channels (int, optional): Number of channels in the intermediate layer. Defaults to None.\n",
    "        residual (bool, optional): Whether to include a residual connection. Defaults to False.\n",
    "    \"\"\"\n",
    "    def __init__(self, in_channels, out_channels, mid_channels=None, residual=False):\n",
    "        super().__init__()\n",
    "\n",
    "        self.residual = residual\n",
    "    \n",
    "        if not mid_channels:\n",
    "            mid_channels = out_channels\n",
    "\n",
    "        self.double_conv = nn.Sequential(\n",
    "            nn.Conv2d(in_channels, mid_channels, kernel_size=3, padding=1, bias=False),\n",
    "            nn.GroupNorm(1, mid_channels),\n",
    "            nn.GELU(),\n",
    "            nn.Conv2d(mid_channels, out_channels, kernel_size=3, padding=1, bias=False),\n",
    "            nn.GroupNorm(1, out_channels),\n",
    "        )\n",
    "\n",
    "    def forward(self, x):\n",
    "\n",
    "        if self.residual:\n",
    "            output = F.gelu(x + self.double_conv(x))\n",
    "        else:\n",
    "            output = self.double_conv(x)\n",
    "            \n",
    "        return output\n",
    "\n",
    "\n",
    "class Down(nn.Module):\n",
    "    \"\"\" \n",
    "    Downsampling layer with MaxPooling, DoubleConv, and temporal representation.\n",
    "\n",
    "    Args:\n",
    "        in_channels (int): Number of input channels.\n",
    "        out_channels (int): Number of output channels.\n",
    "        emb_dim (int, optional): Dimension of the temporal embedding. Defaults to 256.\n",
    "    \"\"\"\n",
    "    def __init__(self, in_channels, out_channels, emb_dim=256):\n",
    "        super().__init__()\n",
    "\n",
    "        self.maxpool_conv = nn.Sequential(\n",
    "            nn.MaxPool2d(2),\n",
    "            DoubleConv(in_channels, in_channels, residual=True),\n",
    "            DoubleConv(in_channels, out_channels),\n",
    "        )\n",
    "        self.emb_layer = nn.Sequential(\n",
    "            nn.SiLU(),\n",
    "            nn.Linear(emb_dim, out_channels),\n",
    "        )\n",
    "\n",
    "    def forward(self, x, t):\n",
    "\n",
    "        x = self.maxpool_conv(x)\n",
    "        emb = self.emb_layer(t)[:, :, None, None].repeat(1, 1, x.shape[-2], x.shape[-1])\n",
    "        output = x + emb\n",
    "\n",
    "        return output\n",
    "\n",
    "\n",
    "class Up(nn.Module):\n",
    "    \"\"\" \n",
    "    Upsampling layer with Upsample and DoubleConv. Also integrates temporal representation.\n",
    "\n",
    "    Args:\n",
    "        in_channels (int): Number of input channels.\n",
    "        out_channels (int): Number of output channels.\n",
    "        emb_dim (int, optional): Dimension of the temporal embedding. Defaults to 256.\n",
    "    \"\"\"\n",
    "    def __init__(self, in_channels, out_channels, emb_dim=256):\n",
    "        super().__init__()\n",
    "        self.up = nn.Upsample(scale_factor=2, mode=\"bilinear\", align_corners=True)\n",
    "        self.conv = nn.Sequential(\n",
    "            DoubleConv(in_channels, in_channels, residual=True),\n",
    "            DoubleConv(in_channels, out_channels, in_channels // 2),\n",
    "        )\n",
    "        self.emb_layer = nn.Sequential(\n",
    "            nn.SiLU(),\n",
    "            nn.Linear(emb_dim, out_channels),\n",
    "        )\n",
    "\n",
    "    def forward(self, x, skip_x, t):\n",
    "        \n",
    "        x = self.up(x)\n",
    "        x = torch.cat([skip_x, x], dim=1)\n",
    "        x = self.conv(x)\n",
    "        emb = self.emb_layer(t)[:, :, None, None].repeat(1, 1, x.shape[-2], x.shape[-1])\n",
    "        output = x + emb\n",
    "    \n",
    "        return output\n",
    "\n",
    "\n",
    "class UNet(nn.Module):\n",
    "    \"\"\" \n",
    "    Modular U-Net architecture.\n",
    "    \"\"\"\n",
    "    def __init__(self, c_in=1, c_out=1, time_dim=256, device='cuda'):\n",
    "        super().__init__()\n",
    "        self.device = device\n",
    "        self.time_dim = time_dim\n",
    "\n",
    "        # Encoder\n",
    "\n",
    "        self.inc = DoubleConv(c_in, 64)\n",
    "        self.down1 = Down(64, 128)\n",
    "        self.down2 = Down(128, 256)\n",
    "        self.down3 = Down(256, 512)\n",
    "        self.down4 = Down(512, 512)\n",
    "\n",
    "        # Decoder\n",
    "\n",
    "        self.up1 = Up(1024, 256)\n",
    "        self.up2 = Up(512, 128)\n",
    "        self.up3 = Up(256, 64)\n",
    "        self.up4 = Up(128, 64)\n",
    "\n",
    "        self.outc = nn.Conv2d(64, c_out, kernel_size=1)\n",
    "\n",
    "    def pos_encoding(self, t, channels):\n",
    "        inv_freq = 1.0 / (10000 ** (torch.arange(0, channels, 2, device=self.device).float() / channels))\n",
    "        pos_enc_a = torch.sin(t.repeat(1, channels // 2) * inv_freq)\n",
    "        pos_enc_b = torch.cos(t.repeat(1, channels // 2) * inv_freq)\n",
    "        pos_enc = torch.cat([pos_enc_a, pos_enc_b], dim=-1)\n",
    "        return pos_enc\n",
    "\n",
    "    def forward(self, x, t):\n",
    "        t = t.unsqueeze(-1).type(torch.float)\n",
    "        t = self.pos_encoding(t, self.time_dim)\n",
    "        \n",
    "        x1 = self.inc(x)\n",
    "        x2 = self.down1(x1, t)\n",
    "        x3 = self.down2(x2, t)\n",
    "        x4 = self.down3(x3, t)\n",
    "        x5 = self.down4(x4, t)\n",
    "        \n",
    "        x = self.up1(x5, x4, t)\n",
    "        x = self.up2(x, x3, t)\n",
    "        x = self.up3(x, x2, t)\n",
    "        x = self.up4(x, x1, t)\n",
    "\n",
    "        output = self.outc(x)\n",
    "        return output\n"
   ]
  },
  {
   "cell_type": "markdown",
   "metadata": {},
   "source": [
    "## TRAIN"
   ]
  },
  {
   "cell_type": "markdown",
   "metadata": {},
   "source": [
    "Let's now train our model using PyTorch. We'll follow the typical training loop procedure. During each iteration of training:\n",
    "\n",
    "1. **Image Retrieval and Noising**: We retrieve an image from the data loader and add noise at a random timestamp `t`, which is selected between 1 and `noise_steps`.\n",
    "   \n",
    "2. **Forward Diffusion**: Apply the `forward_diffusion` process to the image at the specified timestep `t`. This generates a noised version of the image.\n",
    "\n",
    "3. **Model Prediction**: Feed the noised image into the model along with the timestep `t`. The model outputs a prediction of the noise that has been added to the image.\n",
    "\n",
    "4. **Loss Calculation and Backward Pass**: Calculate the loss between the predicted noise and the actual noise applied during the forward diffusion. Perform the backward pass to compute the gradients.\n",
    "\n",
    "5. **Model Training**: Update the model parameters using the Adam optimizer."
   ]
  },
  {
   "cell_type": "code",
   "execution_count": 40,
   "metadata": {},
   "outputs": [
    {
     "name": "stderr",
     "output_type": "stream",
     "text": [
      "Epoch 1/15: 100%|██████████| 782/782 [02:56<00:00,  4.43it/s, loss=0.121]\n",
      "Epoch 2/15: 100%|██████████| 782/782 [02:56<00:00,  4.42it/s, loss=0.0482]\n",
      "Epoch 3/15: 100%|██████████| 782/782 [02:56<00:00,  4.42it/s, loss=0.0406]\n",
      "Epoch 4/15: 100%|██████████| 782/782 [02:56<00:00,  4.42it/s, loss=0.0386]\n",
      "Epoch 5/15: 100%|██████████| 782/782 [02:56<00:00,  4.42it/s, loss=0.0371]\n",
      "Epoch 6/15: 100%|██████████| 782/782 [02:56<00:00,  4.42it/s, loss=0.0351]\n",
      "Epoch 7/15: 100%|██████████| 782/782 [02:56<00:00,  4.42it/s, loss=0.0345]\n",
      "Epoch 8/15: 100%|██████████| 782/782 [02:56<00:00,  4.42it/s, loss=0.0343]\n",
      "Epoch 9/15: 100%|██████████| 782/782 [02:56<00:00,  4.42it/s, loss=0.0328]\n",
      "Epoch 10/15: 100%|██████████| 782/782 [02:56<00:00,  4.42it/s, loss=0.0325]\n",
      "Epoch 11/15: 100%|██████████| 782/782 [02:56<00:00,  4.42it/s, loss=0.032] \n",
      "Epoch 12/15: 100%|██████████| 782/782 [02:56<00:00,  4.42it/s, loss=0.0316]\n",
      "Epoch 13/15: 100%|██████████| 782/782 [02:56<00:00,  4.42it/s, loss=0.0319]\n",
      "Epoch 14/15: 100%|██████████| 782/782 [02:56<00:00,  4.42it/s, loss=0.0318]\n",
      "Epoch 15/15: 100%|██████████| 782/782 [02:56<00:00,  4.43it/s, loss=0.0316]\n"
     ]
    }
   ],
   "source": [
    "def train(model, diffusion, device=device, epochs=NUM_EPOCHS, learning_rate=LR, dataloader=dataloader):\n",
    "    \n",
    "    criterion = nn.MSELoss()\n",
    "    optimizer = torch.optim.Adam(model.parameters(), lr=0.00001)\n",
    "\n",
    "    result_loss = []    \n",
    "\n",
    "    for epoch in range(epochs):\n",
    "        model.train()\n",
    "        running_loss = 0.0\n",
    "        progress_bar = tqdm(enumerate(dataloader), total=len(dataloader), desc=f\"Epoch {epoch + 1}/{epochs}\")\n",
    "\n",
    "        for i, (images, _) in progress_bar:\n",
    "            images = images.to(device)\n",
    "            \n",
    "            # Generate random diffusion steps for each image in the batch\n",
    "            t = torch.randint(0, diffusion.noise_steps, (images.shape[0],), device=device)\n",
    "\n",
    "            # Perform forward diffusion to obtain noised images and the true noise\n",
    "            noised_images, true_noise = diffusion.forward_diffusion(images, t)\n",
    "            #print(true_noise.shape)\n",
    "\n",
    "            optimizer.zero_grad()\n",
    "            \n",
    "            # Forward pass through the model to predict noise\n",
    "            predicted_noise = model.forward(noised_images, t)\n",
    "            #print(predicted_noise.shape)\n",
    "\n",
    "            # Calculate the loss\n",
    "            loss_value = criterion(predicted_noise, true_noise)\n",
    "            #print(loss_value)\n",
    "\n",
    "            # Backward pass and optimize\n",
    "            loss_value.backward()\n",
    "            optimizer.step()\n",
    "            \n",
    "            result_loss.append(loss_value.item())\n",
    "\n",
    "            running_loss += loss_value.item()\n",
    "            progress_bar.set_postfix(loss=running_loss / (i + 1))\n",
    "\n",
    "    return model, result_loss\n",
    "\n",
    "# Define and move your model and diffusion to the device\n",
    "model = UNet().to(device)\n",
    "diffusion = Diffusion().to(device)\n",
    "\n",
    "# Train the model\n",
    "trained_model, rloss = train(model=model, diffusion=diffusion, device=device, epochs=15, learning_rate=LR)\n"
   ]
  },
  {
   "cell_type": "code",
   "execution_count": 19,
   "metadata": {},
   "outputs": [
    {
     "data": {
      "text/plain": [
       "[<matplotlib.lines.Line2D at 0x7fa97c310070>]"
      ]
     },
     "execution_count": 19,
     "metadata": {},
     "output_type": "execute_result"
    },
    {
     "data": {
      "image/png": "[encoded data removed]",
      "text/plain": [
       "<Figure size 640x480 with 1 Axes>"
      ]
     },
     "metadata": {},
     "output_type": "display_data"
    }
   ],
   "source": [
    "plt.plot(rloss, label='Training Loss')\n",
    "plt.xlabel('Iterations')\n",
    "plt.ylabel('Loss')\n",
    "plt.legend()\n",
    "plt.show()"
   ]
  },
  {
   "cell_type": "code",
   "execution_count": null,
   "metadata": {},
   "outputs": [],
   "source": [
    "# Save the model in needed\n",
    "\n",
    "#torch.save(trained_model.state_dict(), \"trained_model_cifar.pth\")"
   ]
  },
  {
   "cell_type": "code",
   "execution_count": 56,
   "metadata": {},
   "outputs": [
    {
     "data": {
      "text/plain": [
       "<All keys matched successfully>"
      ]
     },
     "execution_count": 56,
     "metadata": {},
     "output_type": "execute_result"
    }
   ],
   "source": [
    "# Charge a model if already trained\n",
    "\n",
    "#trained_model = UNet().to(device)\n",
    "#diffusion = Diffusion().to(device)\n",
    "\n",
    "#trained_model.load_state_dict(torch.load(\"trained_model.pth\"))\n"
   ]
  },
  {
   "cell_type": "markdown",
   "metadata": {},
   "source": [
    "## SAMPLING"
   ]
  },
  {
   "cell_type": "markdown",
   "metadata": {},
   "source": [
    "After training our model, we can now generate images from pure noise using the reverse_diffusion process combined with predictions from our model. This involves initiating with random noise and then applying the trained model iteratively to refine this noise back into coherent images.\n",
    "\n",
    "**To do**: Implement the generate_images. This function should take Gaussian noise and a model as inputs and iteratively denoise the noise using the reverse diffusion process."
   ]
  },
  {
   "cell_type": "code",
   "execution_count": 68,
   "metadata": {},
   "outputs": [],
   "source": [
    "def generate_images(model, diffusion, num_images, num_images_to_return):\n",
    "    \"\"\"\n",
    "    Generate images using a model and diffusion process.\n",
    "\n",
    "    Args:\n",
    "        model: The trained model used for image generation.\n",
    "        diffusion: The diffusion process class instance.\n",
    "        num_images (int): Number of images to generate.\n",
    "        num_images_to_return (int): Number of steps to visualise for each image generation.\n",
    "\n",
    "    Returns:\n",
    "        list: A list of generated images.\n",
    "    \"\"\"\n",
    "    model.eval() \n",
    "    generated_images = []\n",
    "\n",
    "    start_t = torch.full((num_images,), 999, device=diffusion.device, dtype=torch.long)\n",
    "    \n",
    "    all_generated_images = []\n",
    "\n",
    "    with torch.no_grad():\n",
    "        for i in range(num_images):\n",
    "\n",
    "            # We generate a random gaussian noise image to start the diffusion process\n",
    "            \n",
    "            x = torch.normal(0, 1, (1, NUM_CHANNELS, IMG_SIZE, IMG_SIZE), device=diffusion.device)\n",
    "            \n",
    "            # We perform the reverse diffusion process to generate the image\n",
    "            images_at_steps = diffusion.reverse_diffusion(model, x,start_t=start_t[i], num_images_to_return=num_images_to_return)\n",
    "            \n",
    "            images_at_steps_cpu = [img.squeeze().cpu().detach().numpy() for img in images_at_steps]\n",
    "            \n",
    "            all_generated_images.append(images_at_steps_cpu)\n",
    "            \n",
    "            generated_images.append(images_at_steps[0][0].cpu())  # Append only the final image from the reverse diffusion\n",
    "\n",
    "    return generated_images, all_generated_images\n",
    "\n",
    "num_generated_images = 6\n",
    "num_step_per_images = 5\n",
    "\n",
    "generated_images, all_steps = generate_images(trained_model, diffusion, num_generated_images, num_step_per_images)"
   ]
  },
  {
   "cell_type": "code",
   "execution_count": 69,
   "metadata": {},
   "outputs": [
    {
     "name": "stdout",
     "output_type": "stream",
     "text": [
      "GIF créé et enregistré à generated_images.gif\n"
     ]
    }
   ],
   "source": [
    "from PIL import Image\n",
    "import numpy as np\n",
    "\n",
    "def Save_Video(List_Images, name_video, fps=30):\n",
    "    fig, ax = plt.subplots(figsize=(10, 10))\n",
    "    plt.axis('off')\n",
    "    def animate(i):\n",
    "        img = List_Images[i]\n",
    "        ax.imshow(img, cmap='gray')\n",
    "        return ax.collections\n",
    "    anim = animation.FuncAnimation(fig, animate, frames=len(List_Images), interval=50)\n",
    "    anim.save(name_video, fps=fps, extra_args=['-vcodec', 'libx264'])\n",
    "    plt.close(fig)\n",
    "\n",
    "\n",
    "\n",
    "def save_gif(all_steps, output_path, duration=200):\n",
    "    \"\"\"\n",
    "    Save a list of images at each step as a GIF.\n",
    "\n",
    "    Args:\n",
    "        all_steps (list): A list of lists of images at each step.\n",
    "        output_path (str): Path to save the GIF.\n",
    "        duration (int): Duration between frames in milliseconds.\n",
    "    \"\"\"\n",
    "    gifs = []\n",
    "\n",
    "    # Convert images to PIL format and add to gif list\n",
    "    for step_images in all_steps:\n",
    "        for img in step_images:\n",
    "            img_np = (img * 255).astype(np.uint8)\n",
    "            img_pil = Image.fromarray(img_np)\n",
    "            gifs.append(img_pil)\n",
    "\n",
    "    # Save as GIF\n",
    "    gifs[0].save(output_path, save_all=True, append_images=gifs[1:], duration=duration, loop=0)\n",
    "\n",
    "output_gif_path = 'generated_images.gif'\n",
    "save_gif(all_steps, output_gif_path, duration=200)\n",
    "print(f\"GIF créé et enregistré à {output_gif_path}\")"
   ]
  },
  {
   "cell_type": "code",
   "execution_count": 71,
   "metadata": {},
   "outputs": [
    {
     "data": {
      "image/png": "[encoded data removed]",
      "text/plain": [
       "<Figure size 1500x1500 with 1 Axes>"
      ]
     },
     "metadata": {},
     "output_type": "display_data"
    }
   ],
   "source": [
    "def show_sampled_images(generated_images, channels=1): \n",
    "    \"\"\"\n",
    "    Show the sampled images.\n",
    "\n",
    "    Args:\n",
    "        generated_images (list): List of generated images.\n",
    "        channels (int): Number of channels in the images.\n",
    "    \"\"\"\n",
    "    num_images = len(generated_images)\n",
    "    fig, axs = plt.subplots(1, num_images, figsize=(15, 15))\n",
    "    \n",
    "    if num_images == 1:\n",
    "        axs = [axs]  # Make sure axs is iterable even if there's only one image\n",
    "\n",
    "    for i, img in enumerate(generated_images):\n",
    "        img = img.squeeze()  # Remove batch dimension\n",
    "        if channels == 1:\n",
    "            axs[i].imshow(img, cmap='gray')\n",
    "        else:\n",
    "            img = img.permute(1, 2, 0)  # Convert from (C, H, W) to (H, W, C)\n",
    "            axs[i].imshow(img)\n",
    "\n",
    "        axs[i].axis('off')  # Hide the axes\n",
    "\n",
    "    plt.show()\n",
    "\n",
    "show_sampled_images(generated_images, channels=1)"
   ]
  },
  {
   "cell_type": "code",
   "execution_count": 72,
   "metadata": {},
   "outputs": [],
   "source": [
    "def find_nearest_image(generated_image, dataloader):\n",
    "    \"\"\"\n",
    "    Find the nearest image in the dataset to the generated image.\n",
    "\n",
    "    Args:\n",
    "        generated_image (torch.Tensor): The generated image.\n",
    "        dataloader: The dataloader containing the dataset.\n",
    "\n",
    "    Returns:\n",
    "        torch.Tensor: The nearest image in the dataset.\n",
    "    \"\"\"\n",
    "    min_distance = float('inf')\n",
    "    nearest_image = None\n",
    "    generated_image = generated_image.to(device)\n",
    "    for images, _ in dataloader:\n",
    "        images = images.to(device)\n",
    "        for image in images:\n",
    "            distance = torch.norm(generated_image - image)\n",
    "            if distance < min_distance:\n",
    "                min_distance = distance\n",
    "                nearest_image = image\n",
    "\n",
    "    return nearest_image"
   ]
  },
  {
   "cell_type": "code",
   "execution_count": 74,
   "metadata": {},
   "outputs": [
    {
     "data": {
      "text/plain": [
       "<matplotlib.image.AxesImage at 0x74a838a2d300>"
      ]
     },
     "execution_count": 74,
     "metadata": {},
     "output_type": "execute_result"
    },
    {
     "data": {
      "image/png": "[encoded data removed]",
      "text/plain": [
       "<Figure size 640x480 with 1 Axes>"
      ]
     },
     "metadata": {},
     "output_type": "display_data"
    }
   ],
   "source": [
    "nearest_image = find_nearest_image(generated_images[0], dataloader)\n",
    "plt.imshow(nearest_image.squeeze().cpu().detach().numpy(), cmap='gray')"
   ]
  },
  {
   "cell_type": "markdown",
   "metadata": {},
   "source": [
    "## Training a model for each category of number"
   ]
  },
  {
   "cell_type": "code",
   "execution_count": 10,
   "metadata": {},
   "outputs": [
    {
     "data": {
      "application/vnd.jupyter.widget-view+json": {
       "model_id": "884974732e354e42bc839fe96d2be6d1",
       "version_major": 2,
       "version_minor": 0
      },
      "text/plain": [
       "  0%|          | 0/60000 [00:00<?, ?it/s]"
      ]
     },
     "metadata": {},
     "output_type": "display_data"
    }
   ],
   "source": [
    "def Create_Daloader_Label(global_dataset):\n",
    "\n",
    "    class  Dataset(torch.utils.data.Dataset):\n",
    "        def __init__(self, dataset, label):\n",
    "            self.dataset = dataset\n",
    "            self.label = label\n",
    "        def __len__(self):\n",
    "            return len(self.dataset)\n",
    "\n",
    "        def __getitem__(self, idx):\n",
    "            return self.dataset[idx], self.label\n",
    "\n",
    "    Images = [[], [], [], [], [], [], [], [], [], []]\n",
    "\n",
    "    ProgressBar = tqdm(range(len(global_dataset)))\n",
    "    for i in ProgressBar:\n",
    "        image, label = global_dataset[i]\n",
    "        Images[label].append(image)\n",
    "    \n",
    "\n",
    "\n",
    "    for i in range(10):\n",
    "        Images[i] = torch.stack(Images[i])\n",
    "        Images[i] = Dataset(Images[i], i*torch.ones(len(Images[i])).long())\n",
    "        Images[i] = torch.utils.data.DataLoader(Images[i], batch_size=BATCH_SIZE, shuffle=True)\n",
    "\n",
    "    return Images\n",
    "\n",
    "\n",
    "Dataloaders = Create_Daloader_Label(subset_data)"
   ]
  },
  {
   "cell_type": "code",
   "execution_count": null,
   "metadata": {},
   "outputs": [],
   "source": [
    "diffusion = Diffusion().to(device)\n",
    "\n",
    "# Entrainer un modèle pour la classe 0\n",
    "model_0 = UNet().to(device)\n",
    "trained_model_0, rloss_0 = train(model=model_0, diffusion=diffusion, device=device, epochs=15, learning_rate=LR, dataloader=Dataloaders[0])\n",
    "\n",
    "# Entrainer un modèle pour la classe 1\n",
    "model_1 = UNet().to(device)\n",
    "trained_model_1, rloss_1 = train(model=model_1, diffusion=diffusion, device=device, epochs=15, learning_rate=LR, dataloader=Dataloaders[1])\n",
    "\n",
    "# Entrainer un modèle pour la classe 2\n",
    "model_2 = UNet().to(device)\n",
    "trained_model_2, rloss_2 = train(model=model_2, diffusion=diffusion, device=device, epochs=15, learning_rate=LR, dataloader=Dataloaders[2])\n",
    "\n",
    "# Entrainer un modèle pour la classe 3\n",
    "model_3 = UNet().to(device)\n",
    "trained_model_3, rloss_3 = train(model=model_3, diffusion=diffusion, device=device, epochs=15, learning_rate=LR, dataloader=Dataloaders[3])\n",
    "\n",
    "# Entrainer un modèle pour la classe 4\n",
    "model_4 = UNet().to(device)\n",
    "trained_model_4, rloss_4 = train(model=model_4, diffusion=diffusion, device=device, epochs=15, learning_rate=LR, dataloader=Dataloaders[4])\n",
    "\n",
    "# Entrainer un modèle pour la classe 5\n",
    "model_5 = UNet().to(device)\n",
    "trained_model_5, rloss_5 = train(model=model_5, diffusion=diffusion, device=device, epochs=15, learning_rate=LR, dataloader=Dataloaders[5])\n",
    "\n",
    "# Entrainer un modèle pour la classe 6\n",
    "model_6 = UNet().to(device)\n",
    "trained_model_6, rloss_6 = train(model=model_6, diffusion=diffusion, device=device, epochs=15, learning_rate=LR, dataloader=Dataloaders[6])\n",
    "\n",
    "# Entrainer un modèle pour la classe 7\n",
    "model_7 = UNet().to(device)\n",
    "trained_model_7, rloss_7 = train(model=model_7, diffusion=diffusion, device=device, epochs=15, learning_rate=LR, dataloader=Dataloaders[7])\n",
    "\n",
    "# Entrainer un modèle pour la classe 8\n",
    "model_8 = UNet().to(device)\n",
    "trained_model_8, rloss_8 = train(model=model_8, diffusion=diffusion, device=device, epochs=15, learning_rate=LR, dataloder=Dataloaders[8])\n",
    "\n",
    "# Entrainer un modèle pour la classe 9\n",
    "model_9 = UNet().to(device)\n",
    "trained_model_9, rloss_9 = train(model=model_9, diffusion=diffusion, device=device, epochs=15, learning_rate=LR, dataloader=Dataloaders[9])"
   ]
  }
 ],
 "metadata": {
  "kernelspec": {
   "display_name": "optim",
   "language": "python",
   "name": "python3"
  },
  "language_info": {
   "codemirror_mode": {
    "name": "ipython",
    "version": 3
   },
   "file_extension": ".py",
   "mimetype": "text/x-python",
   "name": "python",
   "nbconvert_exporter": "python",
   "pygments_lexer": "ipython3",
   "version": "3.10.14"
  }
 },
 "nbformat": 4,
 "nbformat_minor": 2
}
